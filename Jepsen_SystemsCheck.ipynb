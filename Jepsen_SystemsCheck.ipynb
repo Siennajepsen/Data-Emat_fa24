{
 "cells": [
  {
   "cell_type": "markdown",
   "id": "c0bc5a38-823c-475c-a4e5-d26062eaed86",
   "metadata": {},
   "source": [
    "# **System Check** \n",
    "## Sienna Jepsen\n",
    "### 8/23/2024\n",
    "#### While taking Data in Emerging Media and Technology, I hope to learn how to actually code with data. I'm not *completely* sure about everything that will be covered in this class, so I also am ready to see where the semester takes me. I did struggle a little bit with my last coding class, Creative Coding, so I plan on working hard to fully comprehend the content and also reach out if I need assistance. \n",
    "In this class, I will \n",
    "1. Come to class\n",
    "2. Be early or on time\n",
    "3. Make enough time to complete projects early\n",
    "\n",
    "![](https://upload.wikimedia.org/wikipedia/commons/thumb/5/50/Uncooked_cinnamon_roll_buns%2C_March_2010.jpg/440px-Uncooked_cinnamon_roll_buns%2C_March_2010.jpg) \n",
    "\n",
    "### I am excited for this semester! "
   ]
  },
  {
   "cell_type": "code",
   "execution_count": null,
   "id": "0d3ed082-c945-41b9-81e3-b8f481f33a7c",
   "metadata": {},
   "outputs": [],
   "source": []
  },
  {
   "cell_type": "code",
   "execution_count": null,
   "id": "98631789-9ab2-49d0-a696-be18491314ab",
   "metadata": {},
   "outputs": [],
   "source": []
  }
 ],
 "metadata": {
  "kernelspec": {
   "display_name": "Python 3 (ipykernel)",
   "language": "python",
   "name": "python3"
  },
  "language_info": {
   "codemirror_mode": {
    "name": "ipython",
    "version": 3
   },
   "file_extension": ".py",
   "mimetype": "text/x-python",
   "name": "python",
   "nbconvert_exporter": "python",
   "pygments_lexer": "ipython3",
   "version": "3.12.4"
  }
 },
 "nbformat": 4,
 "nbformat_minor": 5
}
